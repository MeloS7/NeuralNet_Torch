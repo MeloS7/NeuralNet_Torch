{
  "nbformat": 4,
  "nbformat_minor": 0,
  "metadata": {
    "colab": {
      "provenance": []
    },
    "kernelspec": {
      "name": "python3",
      "display_name": "Python 3"
    },
    "language_info": {
      "name": "python"
    }
  },
  "cells": [
    {
      "cell_type": "code",
      "execution_count": 5,
      "metadata": {
        "id": "ipREmrkR2lmB"
      },
      "outputs": [],
      "source": [
        "import torch\n",
        "import torch.nn.functional as F\n",
        "import matplotlib.pyplot as plt"
      ]
    },
    {
      "cell_type": "code",
      "source": [
        "class classification(torch.nn.Module):\n",
        "    def __init__(self, n_feature, n_hidden, n_output):\n",
        "        super(classification, self).__init__()\n",
        "        self.hidden = torch.nn.Linear(n_feature, n_hidden)\n",
        "        self.out = torch.nn.Linear(n_hidden, n_output)\n",
        "\n",
        "    def forward(self, x):\n",
        "        x = F.relu(self.hidden(x))\n",
        "        x = self.out(x)\n",
        "        x = F.softmax(x, dim=1)\n",
        "        return x"
      ],
      "metadata": {
        "id": "hccAGuDj2yn2"
      },
      "execution_count": 103,
      "outputs": []
    },
    {
      "cell_type": "code",
      "source": [
        "# Create data\n",
        "input_size = 5\n",
        "num_samples = 100\n",
        "num_class = 2\n",
        "\n",
        "inputs = torch.randn(num_samples, input_size)\n",
        "labels = torch.LongTensor(num_samples).random_(0, num_class)"
      ],
      "metadata": {
        "id": "absR4Liv4M6t"
      },
      "execution_count": 104,
      "outputs": []
    },
    {
      "cell_type": "code",
      "source": [
        "# Define net model\n",
        "hidden_size = 5\n",
        "\n",
        "model = classification(input_size, hidden_size, num_class)\n",
        "print(model)"
      ],
      "metadata": {
        "colab": {
          "base_uri": "https://localhost:8080/"
        },
        "id": "fz4s9t-X8Gbm",
        "outputId": "2a9374d4-b383-49ec-bb50-fd5545a5be2f"
      },
      "execution_count": 105,
      "outputs": [
        {
          "output_type": "stream",
          "name": "stdout",
          "text": [
            "classification(\n",
            "  (hidden): Linear(in_features=5, out_features=5, bias=True)\n",
            "  (out): Linear(in_features=5, out_features=2, bias=True)\n",
            ")\n"
          ]
        }
      ]
    },
    {
      "cell_type": "code",
      "source": [
        "# Define the loss function and optimizer\n",
        "criterion = torch.nn.CrossEntropyLoss()\n",
        "optimizer = torch.optim.SGD(model.parameters(), lr=0.01)"
      ],
      "metadata": {
        "id": "D2KsYdGd9Jn2"
      },
      "execution_count": 106,
      "outputs": []
    },
    {
      "cell_type": "code",
      "source": [
        "# Train the network\n",
        "num_epoch = 2000\n",
        "losses = []\n",
        "\n",
        "for epoch in range(num_epoch):\n",
        "    # Forward pass\n",
        "    outputs = model(inputs)\n",
        "    loss = criterion(outputs, labels)\n",
        "    losses.append(loss.item())\n",
        "\n",
        "    # Backward and optimize\n",
        "    optimizer.zero_grad()\n",
        "    loss.backward()\n",
        "    optimizer.step()\n",
        "\n",
        "    if (epoch+1) % 200 == 0:\n",
        "        print (f'Epoch [{epoch+1}/{num_epoch}], Loss: {loss.item():.4f}')\n",
        "\n"
      ],
      "metadata": {
        "colab": {
          "base_uri": "https://localhost:8080/"
        },
        "id": "qkXmlf4i9qgp",
        "outputId": "db2985ff-875b-4f75-f4b6-0002fcd04bb7"
      },
      "execution_count": 107,
      "outputs": [
        {
          "output_type": "stream",
          "name": "stdout",
          "text": [
            "Epoch [200/2000], Loss: 0.7134\n",
            "Epoch [400/2000], Loss: 0.6955\n",
            "Epoch [600/2000], Loss: 0.6852\n",
            "Epoch [800/2000], Loss: 0.6793\n",
            "Epoch [1000/2000], Loss: 0.6757\n",
            "Epoch [1200/2000], Loss: 0.6731\n",
            "Epoch [1400/2000], Loss: 0.6709\n",
            "Epoch [1600/2000], Loss: 0.6689\n",
            "Epoch [1800/2000], Loss: 0.6669\n",
            "Epoch [2000/2000], Loss: 0.6648\n"
          ]
        }
      ]
    },
    {
      "cell_type": "code",
      "source": [
        "plt.plot(losses)"
      ],
      "metadata": {
        "colab": {
          "base_uri": "https://localhost:8080/",
          "height": 282
        },
        "id": "F7M0nc8M_Xv-",
        "outputId": "6198a9dd-44b8-4d92-dbc5-dd209ece60b6"
      },
      "execution_count": 108,
      "outputs": [
        {
          "output_type": "execute_result",
          "data": {
            "text/plain": [
              "[<matplotlib.lines.Line2D at 0x7fbbc93ef040>]"
            ]
          },
          "metadata": {},
          "execution_count": 108
        },
        {
          "output_type": "display_data",
          "data": {
            "text/plain": [
              "<Figure size 432x288 with 1 Axes>"
            ],
            "image/png": "[encoded data removed]"
          },
          "metadata": {
            "needs_background": "light"
          }
        }
      ]
    },
    {
      "cell_type": "code",
      "source": [],
      "metadata": {
        "id": "ycnf9Rnr__5z"
      },
      "execution_count": null,
      "outputs": []
    }
  ]
}