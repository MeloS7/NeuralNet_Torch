{
 "cells": [
  {
   "cell_type": "code",
   "execution_count": 26,
   "metadata": {},
   "outputs": [],
   "source": [
    "import json\n",
    "\n",
    "data = []\n",
    "with open('comments_guns_with_scores_above_quantile_0.90_val.json', 'r') as f:\n",
    "    for line in f:\n",
    "        json_obj = json.loads(line)\n",
    "        data.append(json_obj)\n",
    "\n"
   ]
  },
  {
   "cell_type": "code",
   "execution_count": 27,
   "metadata": {},
   "outputs": [],
   "source": [
    "from transformers import (\n",
    "    AutoModelForCausalLM,\n",
    "    AutoTokenizer,\n",
    "    get_linear_schedule_with_warmup,\n",
    ")\n",
    "\n",
    "tokenizer = AutoTokenizer.from_pretrained(\"bigscience/bloomz-560m\")"
   ]
  },
  {
   "cell_type": "code",
   "execution_count": 28,
   "metadata": {},
   "outputs": [
    {
     "data": {
      "text/plain": [
       "{'author': 'TtKD6',\n",
       " 'body': 'oh the same motherfucker that beat his 90somehting grandmother to death with a fucking hammer. went to jail, was forced to go to the parole hearing, and got parole (even though he didnt want it).\\n\\nMUST BE THE ASSUALT-FULLMATIC-ARMY GUN!!!   BAN THEM ALL!',\n",
       " 'body_cleaned': 'oh the same motherfucker that beat his 90somehting grandmother to death with a fucking hammer . went to jail , was forced to go to the parole hearing , and got parole ( even though he didnt want it ) . must be the assualt-fullmatic-army gun ! ! ! ban them all !',\n",
       " 'controversiality': 0,\n",
       " 'created_utc': 1356551518,\n",
       " 'distinguished': None,\n",
       " 'edited': -1,\n",
       " 'gilded': 0,\n",
       " 'id': 'c7mflu9',\n",
       " 'language': 'en',\n",
       " 'link_id': 't3_15gw6b',\n",
       " 'parent_id': 't3_15gw6b',\n",
       " 'retrieved_on': 1430776004,\n",
       " 'score': 16,\n",
       " 'subreddit': 'gunpolitics',\n",
       " 'subreddit_id': 't5_2sumr',\n",
       " 'predicted_community': 0}"
      ]
     },
     "execution_count": 28,
     "metadata": {},
     "output_type": "execute_result"
    }
   ],
   "source": [
    "data[0]"
   ]
  },
  {
   "cell_type": "code",
   "execution_count": 29,
   "metadata": {},
   "outputs": [],
   "source": [
    "new_data = []\n",
    "for i, val in enumerate(data):\n",
    "    if len(tokenizer.tokenize(data[i]['body_cleaned'])) <= 64:\n",
    "        new_data.append(data[i])"
   ]
  },
  {
   "cell_type": "code",
   "execution_count": 30,
   "metadata": {},
   "outputs": [
    {
     "data": {
      "text/plain": [
       "2281"
      ]
     },
     "execution_count": 30,
     "metadata": {},
     "output_type": "execute_result"
    }
   ],
   "source": [
    "len(data)"
   ]
  },
  {
   "cell_type": "code",
   "execution_count": 31,
   "metadata": {},
   "outputs": [
    {
     "data": {
      "text/plain": [
       "1713"
      ]
     },
     "execution_count": 31,
     "metadata": {},
     "output_type": "execute_result"
    }
   ],
   "source": [
    "len(new_data)"
   ]
  },
  {
   "cell_type": "code",
   "execution_count": 32,
   "metadata": {},
   "outputs": [],
   "source": [
    "import json\n",
    "json_data = json.dumps(new_data, indent=2)\n",
    "\n",
    "# 将JSON字符串写入文件\n",
    "with open('comments_guns_with_scores_above_quantile_0.90_val_64.json', 'w') as f:\n",
    "    f.write(json_data)"
   ]
  },
  {
   "cell_type": "code",
   "execution_count": null,
   "metadata": {},
   "outputs": [],
   "source": []
  }
 ],
 "metadata": {
  "kernelspec": {
   "display_name": "nlp",
   "language": "python",
   "name": "python3"
  },
  "language_info": {
   "codemirror_mode": {
    "name": "ipython",
    "version": 3
   },
   "file_extension": ".py",
   "mimetype": "text/x-python",
   "name": "python",
   "nbconvert_exporter": "python",
   "pygments_lexer": "ipython3",
   "version": "3.10.9"
  },
  "orig_nbformat": 4
 },
 "nbformat": 4,
 "nbformat_minor": 2
}
