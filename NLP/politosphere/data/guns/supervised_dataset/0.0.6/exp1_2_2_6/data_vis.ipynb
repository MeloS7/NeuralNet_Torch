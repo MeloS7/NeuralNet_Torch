{
 "cells": [
  {
   "cell_type": "code",
   "execution_count": 35,
   "metadata": {},
   "outputs": [
    {
     "name": "stderr",
     "output_type": "stream",
     "text": [
      "Found cached dataset json (C:/Users/ysong/.cache/huggingface/datasets/json/default-7be31e0ae052b38a/0.0.0/e347ab1c932092252e717ff3f949105a4dd28b27e842dd53157d2f72e276c2e4)\n",
      "100%|██████████| 1/1 [00:00<00:00, 334.90it/s]\n"
     ]
    }
   ],
   "source": [
    "from datasets import load_dataset\n",
    "\n",
    "dataset64 = load_dataset(\"json\", data_files=\"./comments_guns_with_scores_above_quantile_0.90_train_64.json\")"
   ]
  },
  {
   "cell_type": "code",
   "execution_count": 36,
   "metadata": {},
   "outputs": [],
   "source": [
    "dataset64 = dataset64[\"train\"]"
   ]
  },
  {
   "cell_type": "code",
   "execution_count": 37,
   "metadata": {},
   "outputs": [
    {
     "data": {
      "text/plain": [
       "['progun',\n",
       " 'GunsAreCool',\n",
       " 'progun',\n",
       " 'GunsAreCool',\n",
       " 'progun',\n",
       " 'GunsAreCool',\n",
       " 'progun',\n",
       " 'progun',\n",
       " 'GunsAreCool',\n",
       " 'GunsAreCool',\n",
       " 'GunsAreCool',\n",
       " 'progun',\n",
       " 'GunsAreCool',\n",
       " 'GunsAreCool',\n",
       " 'GunsAreCool',\n",
       " 'GunsAreCool',\n",
       " 'GunsAreCool',\n",
       " 'GunsAreCool',\n",
       " 'GunsAreCool',\n",
       " 'progun']"
      ]
     },
     "execution_count": 37,
     "metadata": {},
     "output_type": "execute_result"
    }
   ],
   "source": [
    "dataset64[\"subreddit\"][10:30]"
   ]
  },
  {
   "cell_type": "code",
   "execution_count": 38,
   "metadata": {},
   "outputs": [
    {
     "data": {
      "text/plain": [
       "{'link_id': 't3_aud8x',\n",
       " 'subreddit': 'guncontrol',\n",
       " 'retrieved_on': 1426196154.0,\n",
       " 'score': 6.0,\n",
       " 'body': \"Nothing. I was just pointing that out to demonstrate that, although Jesse Ventura is cool, he's not right about everything.\",\n",
       " 'gilded': 0,\n",
       " 'id': 'c0jgzwt',\n",
       " 'predicted_community': 3,\n",
       " 'subreddit_id': 't5_2rdus',\n",
       " 'created_utc': 1264557266,\n",
       " 'controversiality': 0,\n",
       " 'edited': -1.0,\n",
       " 'parent_id': 't1_c0jgqpd',\n",
       " 'language': 'en',\n",
       " 'distinguished': None,\n",
       " 'body_cleaned': \"nothing . i was just pointing that out to demonstrate that , although jesse ventura is cool , he 's not right about everything .\",\n",
       " 'author': 'HAZod'}"
      ]
     },
     "execution_count": 38,
     "metadata": {},
     "output_type": "execute_result"
    }
   ],
   "source": [
    "dataset64[0]"
   ]
  },
  {
   "cell_type": "code",
   "execution_count": 39,
   "metadata": {},
   "outputs": [
    {
     "data": {
      "text/plain": [
       "subreddit\n",
       "GunsAreCool              2699\n",
       "liberalgunowners         1307\n",
       "progun                   1144\n",
       "gunpolitics               321\n",
       "guncontrol                112\n",
       "shitguncontrollerssay      49\n",
       "2ALiberals                 44\n",
       "neveragainmovement         25\n",
       "nra                        10\n",
       "NOWTTYG                     4\n",
       "secondamendment             2\n",
       "Name: count, dtype: int64"
      ]
     },
     "execution_count": 39,
     "metadata": {},
     "output_type": "execute_result"
    }
   ],
   "source": [
    "import pandas as pd\n",
    "df = pd.DataFrame(dataset64)\n",
    "subreddit_counts = df['subreddit'].value_counts()\n",
    "subreddit_counts"
   ]
  },
  {
   "cell_type": "code",
   "execution_count": 40,
   "metadata": {},
   "outputs": [
    {
     "data": {
      "text/plain": [
       "predicted_community\n",
       "3    2815\n",
       "2    1526\n",
       "0    1376\n",
       "Name: count, dtype: int64"
      ]
     },
     "execution_count": 40,
     "metadata": {},
     "output_type": "execute_result"
    }
   ],
   "source": [
    "predicted_community = df[\"predicted_community\"].value_counts()\n",
    "predicted_community"
   ]
  },
  {
   "cell_type": "code",
   "execution_count": 34,
   "metadata": {},
   "outputs": [
    {
     "data": {
      "text/plain": [
       "0.08639813193228255"
      ]
     },
     "execution_count": 34,
     "metadata": {},
     "output_type": "execute_result"
    }
   ],
   "source": [
    "148 / (148 + 654 + 911)"
   ]
  },
  {
   "cell_type": "markdown",
   "metadata": {},
   "source": [
    "## Top sentencens"
   ]
  },
  {
   "cell_type": "code",
   "execution_count": 14,
   "metadata": {},
   "outputs": [],
   "source": [
    "filtered_df = df[df['subreddit'].isin(['progun', 'liberalgunowners', 'guncontrol'])]"
   ]
  },
  {
   "cell_type": "code",
   "execution_count": 18,
   "metadata": {},
   "outputs": [],
   "source": [
    "sorted_df = filtered_df.sort_values('score', ascending=False)\n",
    "top_10_sentences = sorted_df.head(10)[['body', 'subreddit']]"
   ]
  },
  {
   "cell_type": "code",
   "execution_count": 19,
   "metadata": {},
   "outputs": [
    {
     "name": "stdout",
     "output_type": "stream",
     "text": [
      "Subreddit: progun\n",
      "Sentence: As a federal LEO, the very idea of confiscating guns is laughable. I swore an oath to the constitution, not to Beto or any other politician.\n",
      "\n",
      "Subreddit: progun\n",
      "Sentence: We must ban this horrible weapon of war\n",
      "\n",
      "Subreddit: liberalgunowners\n",
      "Sentence: This is also why I love Hickok45. He's just an all-around good guy. One of the best representatives out there for the pro-2A community.\n",
      "\n",
      "Subreddit: liberalgunowners\n",
      "Sentence: for good reason.\n",
      "\n",
      "\n",
      "god she sucked so much\n",
      "\n",
      "Subreddit: liberalgunowners\n",
      "Sentence: He is the worst parts of a Democrat and the worst parts of a Republican, rolled into one. An authoritarian, through and through.\n",
      "\n",
      "Subreddit: progun\n",
      "Sentence: \"You're pretty stupid to not just have armed security like me you filthy peasants.\" That's all I read.\n",
      "\n",
      "Subreddit: progun\n",
      "Sentence: Meanwhile in England, an old man is being charged with murder after he killed one of the men breaking into his home\n",
      "\n",
      "Subreddit: liberalgunowners\n",
      "Sentence: This is part of why he lost a Senate race against someone who's so disliked.\n",
      "\n",
      "Subreddit: liberalgunowners\n",
      "Sentence: The NRA definitely sucks ass, but this is an odd precedent to set... For starters, what are they hoping to achieve beyond limiting their advertising ability?\n",
      "\n",
      "Subreddit: progun\n",
      "Sentence: Thanks but no thanks.\n",
      "\n"
     ]
    }
   ],
   "source": [
    "for index, row in top_10_sentences.iterrows():\n",
    "    print(\"Subreddit:\", row['subreddit'])\n",
    "    print(\"Sentence:\", row['body'])\n",
    "    print()\n",
    "\n"
   ]
  },
  {
   "cell_type": "code",
   "execution_count": null,
   "metadata": {},
   "outputs": [],
   "source": []
  }
 ],
 "metadata": {
  "kernelspec": {
   "display_name": "nlp",
   "language": "python",
   "name": "python3"
  },
  "language_info": {
   "codemirror_mode": {
    "name": "ipython",
    "version": 3
   },
   "file_extension": ".py",
   "mimetype": "text/x-python",
   "name": "python",
   "nbconvert_exporter": "python",
   "pygments_lexer": "ipython3",
   "version": "3.10.9"
  },
  "orig_nbformat": 4
 },
 "nbformat": 4,
 "nbformat_minor": 2
}
