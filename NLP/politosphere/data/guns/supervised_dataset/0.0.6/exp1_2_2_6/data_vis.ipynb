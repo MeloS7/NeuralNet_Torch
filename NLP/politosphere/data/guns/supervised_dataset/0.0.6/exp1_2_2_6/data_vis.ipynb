{
 "cells": [
  {
   "cell_type": "code",
   "execution_count": 1,
   "metadata": {},
   "outputs": [
    {
     "name": "stderr",
     "output_type": "stream",
     "text": [
      "c:\\Users\\ysong\\AppData\\Local\\anaconda3\\envs\\nlp\\lib\\site-packages\\tqdm\\auto.py:21: TqdmWarning: IProgress not found. Please update jupyter and ipywidgets. See https://ipywidgets.readthedocs.io/en/stable/user_install.html\n",
      "  from .autonotebook import tqdm as notebook_tqdm\n",
      "Found cached dataset json (C:/Users/ysong/.cache/huggingface/datasets/json/default-7be31e0ae052b38a/0.0.0/e347ab1c932092252e717ff3f949105a4dd28b27e842dd53157d2f72e276c2e4)\n",
      "100%|██████████| 1/1 [00:00<00:00, 177.16it/s]\n"
     ]
    }
   ],
   "source": [
    "from datasets import load_dataset\n",
    "\n",
    "dataset64 = load_dataset(\"json\", data_files=\"./comments_guns_with_scores_above_quantile_0.90_train_64.json\")"
   ]
  },
  {
   "cell_type": "code",
   "execution_count": 2,
   "metadata": {},
   "outputs": [],
   "source": [
    "dataset64 = dataset64[\"train\"]"
   ]
  },
  {
   "cell_type": "code",
   "execution_count": 3,
   "metadata": {},
   "outputs": [
    {
     "data": {
      "text/plain": [
       "['progun',\n",
       " 'GunsAreCool',\n",
       " 'progun',\n",
       " 'GunsAreCool',\n",
       " 'progun',\n",
       " 'GunsAreCool',\n",
       " 'progun',\n",
       " 'progun',\n",
       " 'GunsAreCool',\n",
       " 'GunsAreCool',\n",
       " 'GunsAreCool',\n",
       " 'progun',\n",
       " 'GunsAreCool',\n",
       " 'GunsAreCool',\n",
       " 'GunsAreCool',\n",
       " 'GunsAreCool',\n",
       " 'GunsAreCool',\n",
       " 'GunsAreCool',\n",
       " 'GunsAreCool',\n",
       " 'progun']"
      ]
     },
     "execution_count": 3,
     "metadata": {},
     "output_type": "execute_result"
    }
   ],
   "source": [
    "dataset64[\"subreddit\"][10:30]"
   ]
  },
  {
   "cell_type": "code",
   "execution_count": 4,
   "metadata": {},
   "outputs": [
    {
     "data": {
      "text/plain": [
       "{'link_id': 't3_aud8x',\n",
       " 'subreddit': 'guncontrol',\n",
       " 'retrieved_on': 1426196154.0,\n",
       " 'score': 6.0,\n",
       " 'body': \"Nothing. I was just pointing that out to demonstrate that, although Jesse Ventura is cool, he's not right about everything.\",\n",
       " 'gilded': 0,\n",
       " 'id': 'c0jgzwt',\n",
       " 'predicted_community': 3,\n",
       " 'subreddit_id': 't5_2rdus',\n",
       " 'created_utc': 1264557266,\n",
       " 'controversiality': 0,\n",
       " 'edited': -1.0,\n",
       " 'parent_id': 't1_c0jgqpd',\n",
       " 'language': 'en',\n",
       " 'distinguished': None,\n",
       " 'body_cleaned': \"nothing . i was just pointing that out to demonstrate that , although jesse ventura is cool , he 's not right about everything .\",\n",
       " 'author': 'HAZod'}"
      ]
     },
     "execution_count": 4,
     "metadata": {},
     "output_type": "execute_result"
    }
   ],
   "source": [
    "dataset64[0]"
   ]
  },
  {
   "cell_type": "code",
   "execution_count": 8,
   "metadata": {},
   "outputs": [
    {
     "data": {
      "text/plain": [
       "predicted_community\n",
       "3    2815\n",
       "2    1526\n",
       "0    1376\n",
       "Name: count, dtype: int64"
      ]
     },
     "execution_count": 8,
     "metadata": {},
     "output_type": "execute_result"
    }
   ],
   "source": [
    "df = dataset64.to_pandas()\n",
    "predicted_community = df[\"predicted_community\"].value_counts()\n",
    "predicted_community"
   ]
  },
  {
   "cell_type": "code",
   "execution_count": 9,
   "metadata": {},
   "outputs": [
    {
     "data": {
      "text/plain": [
       "0.08639813193228255"
      ]
     },
     "execution_count": 9,
     "metadata": {},
     "output_type": "execute_result"
    }
   ],
   "source": [
    "148 / (148 + 654 + 911)"
   ]
  },
  {
   "cell_type": "markdown",
   "metadata": {},
   "source": [
    "### Create count-balanced dataset"
   ]
  },
  {
   "cell_type": "code",
   "execution_count": 10,
   "metadata": {},
   "outputs": [
    {
     "data": {
      "text/plain": [
       "predicted_community\n",
       "0    1000\n",
       "2    1000\n",
       "3    1000\n",
       "Name: count, dtype: int64"
      ]
     },
     "execution_count": 10,
     "metadata": {},
     "output_type": "execute_result"
    }
   ],
   "source": [
    "sorted_df = df.groupby('predicted_community').apply(lambda x: x.nlargest(1000, 'score')).reset_index(drop=True)\n",
    "sorted_df.value_counts(\"predicted_community\")"
   ]
  },
  {
   "cell_type": "code",
   "execution_count": 20,
   "metadata": {},
   "outputs": [],
   "source": [
    "sorted_df.to_json('train_64_count_balanced.json', orient='records', lines=True)"
   ]
  },
  {
   "cell_type": "code",
   "execution_count": null,
   "metadata": {},
   "outputs": [],
   "source": []
  },
  {
   "cell_type": "markdown",
   "metadata": {},
   "source": [
    "### Create sum-balanced dataset"
   ]
  },
  {
   "cell_type": "code",
   "execution_count": 26,
   "metadata": {},
   "outputs": [
    {
     "data": {
      "text/plain": [
       "array([3, 0, 2], dtype=int64)"
      ]
     },
     "execution_count": 26,
     "metadata": {},
     "output_type": "execute_result"
    }
   ],
   "source": [
    "predicted_communities = df['predicted_community'].unique()\n",
    "predicted_communities"
   ]
  },
  {
   "cell_type": "code",
   "execution_count": 27,
   "metadata": {},
   "outputs": [],
   "source": [
    "dataframes = {}\n",
    "for community in predicted_communities:\n",
    "    community_df = df[df['predicted_community'] == community].copy()\n",
    "    community_df = community_df.sort_values('score', ascending=False).reset_index(drop=True)\n",
    "    dataframes[f'df_pc_{community}'] = community_df"
   ]
  },
  {
   "cell_type": "code",
   "execution_count": 33,
   "metadata": {},
   "outputs": [
    {
     "data": {
      "text/plain": [
       "dict_keys(['df_pc_3', 'df_pc_0', 'df_pc_2'])"
      ]
     },
     "execution_count": 33,
     "metadata": {},
     "output_type": "execute_result"
    }
   ],
   "source": [
    "dataframes.keys()"
   ]
  },
  {
   "cell_type": "code",
   "execution_count": 35,
   "metadata": {},
   "outputs": [
    {
     "data": {
      "text/plain": [
       "predicted_community\n",
       "0    51623.0\n",
       "2    64672.0\n",
       "3    45050.0\n",
       "Name: score, dtype: float64"
      ]
     },
     "execution_count": 35,
     "metadata": {},
     "output_type": "execute_result"
    }
   ],
   "source": [
    "df.groupby('predicted_community')['score'].sum()"
   ]
  },
  {
   "cell_type": "code",
   "execution_count": 41,
   "metadata": {},
   "outputs": [
    {
     "data": {
      "text/html": [
       "<div>\n",
       "<style scoped>\n",
       "    .dataframe tbody tr th:only-of-type {\n",
       "        vertical-align: middle;\n",
       "    }\n",
       "\n",
       "    .dataframe tbody tr th {\n",
       "        vertical-align: top;\n",
       "    }\n",
       "\n",
       "    .dataframe thead th {\n",
       "        text-align: right;\n",
       "    }\n",
       "</style>\n",
       "<table border=\"1\" class=\"dataframe\">\n",
       "  <thead>\n",
       "    <tr style=\"text-align: right;\">\n",
       "      <th></th>\n",
       "      <th>predicted_community</th>\n",
       "      <th>score</th>\n",
       "    </tr>\n",
       "  </thead>\n",
       "  <tbody>\n",
       "    <tr>\n",
       "      <th>0</th>\n",
       "      <td>3</td>\n",
       "      <td>142.0</td>\n",
       "    </tr>\n",
       "    <tr>\n",
       "      <th>1</th>\n",
       "      <td>3</td>\n",
       "      <td>135.0</td>\n",
       "    </tr>\n",
       "    <tr>\n",
       "      <th>2</th>\n",
       "      <td>3</td>\n",
       "      <td>127.0</td>\n",
       "    </tr>\n",
       "    <tr>\n",
       "      <th>3</th>\n",
       "      <td>3</td>\n",
       "      <td>109.0</td>\n",
       "    </tr>\n",
       "    <tr>\n",
       "      <th>4</th>\n",
       "      <td>3</td>\n",
       "      <td>96.0</td>\n",
       "    </tr>\n",
       "    <tr>\n",
       "      <th>5</th>\n",
       "      <td>3</td>\n",
       "      <td>88.0</td>\n",
       "    </tr>\n",
       "    <tr>\n",
       "      <th>6</th>\n",
       "      <td>3</td>\n",
       "      <td>82.0</td>\n",
       "    </tr>\n",
       "    <tr>\n",
       "      <th>7</th>\n",
       "      <td>3</td>\n",
       "      <td>78.0</td>\n",
       "    </tr>\n",
       "    <tr>\n",
       "      <th>8</th>\n",
       "      <td>3</td>\n",
       "      <td>77.0</td>\n",
       "    </tr>\n",
       "    <tr>\n",
       "      <th>9</th>\n",
       "      <td>3</td>\n",
       "      <td>76.0</td>\n",
       "    </tr>\n",
       "  </tbody>\n",
       "</table>\n",
       "</div>"
      ],
      "text/plain": [
       "   predicted_community  score\n",
       "0                    3  142.0\n",
       "1                    3  135.0\n",
       "2                    3  127.0\n",
       "3                    3  109.0\n",
       "4                    3   96.0\n",
       "5                    3   88.0\n",
       "6                    3   82.0\n",
       "7                    3   78.0\n",
       "8                    3   77.0\n",
       "9                    3   76.0"
      ]
     },
     "execution_count": 41,
     "metadata": {},
     "output_type": "execute_result"
    }
   ],
   "source": [
    "dataframes['df_pc_3'].head(10)[[\"predicted_community\", \"score\"]]\n",
    "    "
   ]
  },
  {
   "cell_type": "code",
   "execution_count": 49,
   "metadata": {},
   "outputs": [],
   "source": [
    "import pandas as pd\n",
    "\n",
    "def extract_examples(df, bar=30000, bias=50):\n",
    "    examples = []\n",
    "    cumulative_score = 0\n",
    "    \n",
    "    for index, row in df.iterrows():\n",
    "        examples.append(row)\n",
    "        cumulative_score += row['score']\n",
    "        \n",
    "        if cumulative_score >= bar - bias:\n",
    "            break\n",
    "    \n",
    "    return pd.DataFrame(examples)"
   ]
  },
  {
   "cell_type": "code",
   "execution_count": null,
   "metadata": {},
   "outputs": [],
   "source": []
  },
  {
   "cell_type": "code",
   "execution_count": 52,
   "metadata": {},
   "outputs": [],
   "source": [
    "new_dataframes = {}\n",
    "\n",
    "for key in dataframes.keys():\n",
    "    new_df = extract_examples(dataframes[key])\n",
    "    new_dataframes[\"new_\" + key] = new_df"
   ]
  },
  {
   "cell_type": "code",
   "execution_count": 54,
   "metadata": {},
   "outputs": [
    {
     "name": "stdout",
     "output_type": "stream",
     "text": [
      "predicted_community\n",
      "3    29962.0\n",
      "Name: score, dtype: float64\n",
      "predicted_community\n",
      "0    29974.0\n",
      "Name: score, dtype: float64\n",
      "predicted_community\n",
      "2    29984.0\n",
      "Name: score, dtype: float64\n"
     ]
    }
   ],
   "source": [
    "for i, key in enumerate(new_dataframes.keys()):\n",
    "    print(new_dataframes[key].groupby('predicted_community')['score'].sum())"
   ]
  },
  {
   "cell_type": "code",
   "execution_count": 57,
   "metadata": {},
   "outputs": [],
   "source": [
    "concatenated_df = pd.concat(new_dataframes.values(), ignore_index=True)\n",
    "concatenated_df.to_json('train_64_sum_balanced.json', orient='records', lines=True)"
   ]
  },
  {
   "cell_type": "markdown",
   "metadata": {},
   "source": [
    "## Top sentencens"
   ]
  },
  {
   "cell_type": "code",
   "execution_count": 14,
   "metadata": {},
   "outputs": [],
   "source": [
    "filtered_df = df[df['subreddit'].isin(['progun', 'liberalgunowners', 'guncontrol'])]"
   ]
  },
  {
   "cell_type": "code",
   "execution_count": 18,
   "metadata": {},
   "outputs": [],
   "source": [
    "sorted_df = filtered_df.sort_values('score', ascending=False)\n",
    "top_10_sentences = sorted_df.head(10)[['body', 'subreddit']]"
   ]
  },
  {
   "cell_type": "code",
   "execution_count": 19,
   "metadata": {},
   "outputs": [
    {
     "name": "stdout",
     "output_type": "stream",
     "text": [
      "Subreddit: progun\n",
      "Sentence: As a federal LEO, the very idea of confiscating guns is laughable. I swore an oath to the constitution, not to Beto or any other politician.\n",
      "\n",
      "Subreddit: progun\n",
      "Sentence: We must ban this horrible weapon of war\n",
      "\n",
      "Subreddit: liberalgunowners\n",
      "Sentence: This is also why I love Hickok45. He's just an all-around good guy. One of the best representatives out there for the pro-2A community.\n",
      "\n",
      "Subreddit: liberalgunowners\n",
      "Sentence: for good reason.\n",
      "\n",
      "\n",
      "god she sucked so much\n",
      "\n",
      "Subreddit: liberalgunowners\n",
      "Sentence: He is the worst parts of a Democrat and the worst parts of a Republican, rolled into one. An authoritarian, through and through.\n",
      "\n",
      "Subreddit: progun\n",
      "Sentence: \"You're pretty stupid to not just have armed security like me you filthy peasants.\" That's all I read.\n",
      "\n",
      "Subreddit: progun\n",
      "Sentence: Meanwhile in England, an old man is being charged with murder after he killed one of the men breaking into his home\n",
      "\n",
      "Subreddit: liberalgunowners\n",
      "Sentence: This is part of why he lost a Senate race against someone who's so disliked.\n",
      "\n",
      "Subreddit: liberalgunowners\n",
      "Sentence: The NRA definitely sucks ass, but this is an odd precedent to set... For starters, what are they hoping to achieve beyond limiting their advertising ability?\n",
      "\n",
      "Subreddit: progun\n",
      "Sentence: Thanks but no thanks.\n",
      "\n"
     ]
    }
   ],
   "source": [
    "for index, row in top_10_sentences.iterrows():\n",
    "    print(\"Subreddit:\", row['subreddit'])\n",
    "    print(\"Sentence:\", row['body'])\n",
    "    print()\n",
    "\n"
   ]
  },
  {
   "cell_type": "code",
   "execution_count": null,
   "metadata": {},
   "outputs": [],
   "source": []
  }
 ],
 "metadata": {
  "kernelspec": {
   "display_name": "nlp",
   "language": "python",
   "name": "python3"
  },
  "language_info": {
   "codemirror_mode": {
    "name": "ipython",
    "version": 3
   },
   "file_extension": ".py",
   "mimetype": "text/x-python",
   "name": "python",
   "nbconvert_exporter": "python",
   "pygments_lexer": "ipython3",
   "version": "3.10.9"
  },
  "orig_nbformat": 4
 },
 "nbformat": 4,
 "nbformat_minor": 2
}
